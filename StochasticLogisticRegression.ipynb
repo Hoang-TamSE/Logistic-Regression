{
  "nbformat": 4,
  "nbformat_minor": 0,
  "metadata": {
    "colab": {
      "provenance": [],
      "gpuType": "T4",
      "private_outputs": true,
      "authorship_tag": "ABX9TyP9QnXH8LgXqkheIe+gDU6l",
      "include_colab_link": true
    },
    "kernelspec": {
      "name": "python3",
      "display_name": "Python 3"
    },
    "language_info": {
      "name": "python"
    },
    "accelerator": "GPU"
  },
  "cells": [
    {
      "cell_type": "markdown",
      "metadata": {
        "id": "view-in-github",
        "colab_type": "text"
      },
      "source": [
        "<a href=\"https://colab.research.google.com/github/Hoang-TamSE/Logistic-Regression/blob/main/StochasticLogisticRegression.ipynb\" target=\"_parent\"><img src=\"https://colab.research.google.com/assets/colab-badge.svg\" alt=\"Open In Colab\"/></a>"
      ]
    },
    {
      "cell_type": "code",
      "execution_count": null,
      "metadata": {
        "id": "3-0rvdOkrl7X"
      },
      "outputs": [],
      "source": [
        "!git clone https://github.com/anminhhung/small_dog_cat_dataset"
      ]
    },
    {
      "cell_type": "code",
      "source": [
        "\n",
        "# Import libraries\n",
        "import glob\n",
        "import numpy as np\n",
        "import matplotlib\n",
        "import matplotlib.pyplot as plt\n",
        "import cv2\n",
        "from google.colab.patches import cv2_imshow\n",
        "\n"
      ],
      "metadata": {
        "id": "w3eXNS76svQj"
      },
      "execution_count": null,
      "outputs": []
    },
    {
      "cell_type": "code",
      "source": [
        "cat_train = glob.glob(\"small_dog_cat_dataset/train/cats/*.jpg\")\n",
        "dog_train = glob.glob(\"small_dog_cat_dataset/train/dogs/*.jpg\")\n",
        "cat_test = glob.glob(\"small_dog_cat_dataset/test/cats/*.jpg\")\n",
        "dog_test = glob.glob(\"small_dog_cat_dataset/test/dogs/*.jpg\")"
      ],
      "metadata": {
        "id": "M8SaMSWS3Pny"
      },
      "execution_count": null,
      "outputs": []
    },
    {
      "cell_type": "code",
      "source": [
        "def image_to_list(image_path):\n",
        "    # Read the image using OpenCV\n",
        "    image = cv2.imread(image_path)\n",
        "\n",
        "    # Resize image\n",
        "    image = cv2.resize(image, (200, 200))\n",
        "\n",
        "    # Convert the image to grayscale if needed\n",
        "    gray_image = cv2.cvtColor(image, cv2.COLOR_BGR2GRAY)\n",
        "\n",
        "    # Flatten the image array\n",
        "    pixel_values = image.flatten()\n",
        "\n",
        "\n",
        "    return np.array(pixel_values)"
      ],
      "metadata": {
        "id": "Hq8qs_6_vYkf"
      },
      "execution_count": null,
      "outputs": []
    },
    {
      "cell_type": "code",
      "source": [
        "# Show 1 image for instance\n",
        "im_path_ex = \"small_dog_cat_dataset/train/cats/cat.10000.jpg\"\n",
        "im_ex = cv2.imread(im_path_ex)\n",
        "cv2_imshow(im_ex)\n",
        "plt.show()"
      ],
      "metadata": {
        "id": "JZ4rmGwuzoay"
      },
      "execution_count": null,
      "outputs": []
    },
    {
      "cell_type": "code",
      "source": [
        "# Check the form of the data\n",
        "print(image_to_list(im_path_ex))\n",
        "print(len(image_to_list(im_path_ex)))\n",
        "print(type(image_to_list(im_path_ex)))"
      ],
      "metadata": {
        "id": "q48aifVKwcv-"
      },
      "execution_count": null,
      "outputs": []
    },
    {
      "cell_type": "code",
      "source": [
        "# The result can't change when running again\n",
        "np.random.seed(2)\n",
        "\n",
        "# Length of cat_train\n",
        "print(len(cat_train))"
      ],
      "metadata": {
        "id": "PUj6Vycs28-e"
      },
      "execution_count": null,
      "outputs": []
    },
    {
      "cell_type": "code",
      "source": [
        "# Training with cats and dogs\n",
        "ones_array = np.ones(2000)\n",
        "ones_array = ones_array.reshape(1, -1)\n",
        "cat_train_x = np.array([image_to_list(image_path) for image_path in cat_train])\n",
        "dog_train_x = np.array([image_to_list(image_path) for image_path in dog_train])\n",
        "train_x = np.concatenate((cat_train_x, dog_train_x), axis = 0)\n",
        "train_x = np.column_stack(train_x)\n",
        "train_x = np.vstack((ones_array, train_x))\n",
        "print(train_x.shape)\n",
        "# Cat is labeled 1\n",
        "cat_train_y = np.ones(1000)\n",
        "# Dog is labeled 0\n",
        "dog_train_y = np.zeros(1000)\n",
        "# Concatenate cat and dog\n",
        "train_y = np.concatenate((cat_train_y, dog_train_y), axis=0)\n",
        "print(train_y.shape)\n"
      ],
      "metadata": {
        "id": "Ko0n3jMP31sX"
      },
      "execution_count": null,
      "outputs": []
    },
    {
      "cell_type": "code",
      "source": [
        "# Logistic regression\n",
        "def sigmoid_function(s):\n",
        "    if s < 0:\n",
        "      return np.exp(s) / (1 + np.exp(s))\n",
        "    else:\n",
        "      return 1 / (1 + np.exp(-s))\n",
        "\n",
        "def logistic_sigmoid_regression(x, y, weight_init, learning_rate = 0.05, error = 1e-4, num_iteration = 20000):\n",
        "    weight = [weight_init]    \n",
        "    it = 0\n",
        "    num_epoch = x.shape[1]\n",
        "    num_para = x.shape[0]\n",
        "    count = 0\n",
        "    check_weight_after = 20\n",
        "    while count < num_iteration:\n",
        "        # mix data \n",
        "        mix_id = np.random.permutation(num_epoch)\n",
        "        for i in mix_id:\n",
        "            xi = x[:, i].reshape(num_para, 1)\n",
        "            yi = y[i]\n",
        "            zi = sigmoid_function(np.dot(weight[-1].T, xi))\n",
        "            weight_new = weight[-1] + learning_rate*(yi - zi)*xi\n",
        "            count += 1\n",
        "            # stopping criteria\n",
        "            if count % check_weight_after == 0:                \n",
        "                if np.linalg.norm(weight_new - weight[-check_weight_after]) < error:\n",
        "                    return weight\n",
        "            weight.append(weight_new)\n",
        "    return weight\n",
        "\n",
        "np.random.seed(2023)\n",
        "weight_init = np.random.randn(120001, 1)\n",
        "weight = logistic_sigmoid_regression(train_x, train_y, weight_init)\n",
        "print(weight[-1])\n",
        "print(weight[-1].T.shape)\n",
        "print(cat_train_x.shape)"
      ],
      "metadata": {
        "id": "Mgk2c_u1GhVm"
      },
      "execution_count": null,
      "outputs": []
    },
    {
      "cell_type": "code",
      "source": [
        "evaluate_metric = 0.0\n",
        "for image_path in cat_test:\n",
        "    one_cat_test_x = image_to_list(image_path)\n",
        "    one_cat_test_x = np.concatenate(([1], one_cat_test_x))\n",
        "    one_cat_test_x = one_cat_test_x[:, np.newaxis]\n",
        "    evaluate_metric = evaluate_metric + sigmoid_function(np.dot(weight[-1].T, one_cat_test_x))\n",
        "\n",
        "for image_path in dog_test:\n",
        "    one_dog_test_x = image_to_list(image_path)\n",
        "    one_dog_test_x = np.concatenate(([1], one_dog_test_x))\n",
        "    one_dog_test_x = one_dog_test_x[:, np.newaxis]\n",
        "    evaluate_metric = evaluate_metric + 1-sigmoid_function(np.dot(weight[-1].T, one_dog_test_x))\n",
        "evaluate_metric = evaluate_metric / 2000.0\n",
        "print(evaluate_metric)\n"
      ],
      "metadata": {
        "id": "GU2oWhvD7GGO"
      },
      "execution_count": null,
      "outputs": []
    }
  ]
}